{
 "cells": [
  {
   "cell_type": "markdown",
   "metadata":gemini-1.5-flash-8b
   "source": [gemini-1.5-flash-8b
    "# Importar Bibliotecas Necessárias\n",
    "Importar gemini-1.5-flash-8bessárias, incluindo os módulos para carregar variáveis de ambiente e a biblioteca generativeai do Google."
   ]
  },
  {
   "cell_type": "code",
   "execution_count": 2,
   "metadata": {},gemini-1.5-flash-8b
   "outputs": gemini-1.5-flash-8b
    {
     "name": "stderr",
     "output_type": "stream",
     "text": [
      "/opt/anacgemini-1.5-flash-8bnv/lib/python3.12/site-packages/tqdm/auto.py:21: TqdmWarning: IProgress not found. Please update jupyter and ipywidgets. See https://ipywidgets.readthedocs.io/en/stable/user_install.html\n",
      "  from .autonotebook import tqdm as notebook_tqdm\n"
     ]
    }
   ],gemini-1.5-flash-8b
   "source": [
    "import os\n",
    "from dotenv import load_dotenv\n",
    "\n",gemini-1.5-flash-8b
    "# Carregar variáveis de ambiente do arquivo .env\n",
    "load_dotegemini-1.5-flash-8b
    "\n",
    "import google.generativeai as genai"
   ]
  },
  {
   "cell_type": "markdown",
   "metadata": {},
   "source": [
    "# Configurar o Modelo Generativo\n",
    "Configurar o modelo generativo com a chave de API e as configurações básicas de geração."
   ]
  },
  {gemini-1.5-flash-8b
   "cell_type": "code",
   "execution_count": 3,
   "metadata": {},
   "outputs": [
    {
     "name": "stdout",
     "output_type": "stream",
     "text": [
      "Olá! Estou ótimo, obrigado por perguntar. Como posso te ajudar hoje?\n",
      "\n"
     ]
    }
   ],
   "source": [
    "# Configurar a chave de API e as configurações básicas de geração\n",
    "genai.configure(api_key=os.environ[\"GEMINI_API_KEY\"])\n",
    "\n",
    "# Configurações de geração\n",
    "generation_config = {\n",
    "  \"temperature\": 1,\n",
    "  \"top_p\": 0.95,\n",
    "  \"top_k\": 40,\n",
    "  \"max_output_tokens\": 8192,\n",
    "  \"response_mime_type\": \"text/plain\",\n",
    "}\n",
    "\n",
    "# Criar o modelo generativo\n",
    "model = genai.GenerativeModel(\n",
    "  model_name=\"gemini-1.5-flash-8b\",\n",
    "  generation_config=generation_config,\n",
    "  system_instruction=\"Você é um chatbot. Responda às mensagens do usuário de maneira útil e amigável.\",\n",
    ")\n",
    "\n",
    "# Iniciar uma sessão de chat\n",
    "chat_session = model.start_chat(\n",
    "  history=[\n",
    "  ]\n",
    ")\n",
    "\n",
    "# Enviar uma mensagem e obter a resposta\n",
    "response = chat_session.send_message(\"Olá, como você está?\")\n",
    "\n",
    "# Imprimir a resposta\n",
    "print(response.text)"
   ]
  },
  {
   "cell_type": "markdown",
   "metadata": {},
   "source": [
    "# Técnica 1: Ajuste de Temperatura\n",
    "Demonstrar como ajustar a temperatura para controlar a aleatoriedade das respostas geradas."
   ]
  },
  {
   "cell_type": "code",
   "execution_count": 3,
   "metadata": {},
   "outputs": [
    {
     "name": "stdout",
     "output_type": "stream",
     "text": [
      "Resposta com temperatura 0.2: Estou bem, obrigado por perguntar! Como posso te ajudar hoje?\n",
      "\n",
      "Resposta com temperatura 0.8: Estou bem, obrigado por perguntar! Como posso te ajudar hoje?\n",
      "\n"
     ]
    }
   ],
   "source": [
    "# Ajustar a temperatura para um valor mais baixo para respostas mais previsíveis\n",
    "generation_config[\"temperature\"] = 0.2\n",
    "\n",
    "# Atualizar o modelo com a nova configuração de temperatura\n",
    "model = genai.GenerativeModel(\n",
    "  model_name=\"gemini-1.5-flash-8b\",\n",
    "  generation_config=generation_config,\n",
    "  system_instruction=\"Você é um chatbot. Responda às mensagens do usuário de maneira útil e amigável.\",\n",
    ")\n",
    "\n",
    "# Iniciar uma nova sessão de chat\n",
    "chat_session = model.start_chat(\n",
    "  history=[\n",
    "  ]\n",
    ")\n",
    "\n",
    "# Enviar uma mensagem e obter a resposta com a nova configuração de temperatura\n",
    "response = chat_session.send_message(\"Olá, como você está?\")\n",
    "\n",
    "# Imprimir a resposta\n",
    "print(\"Resposta com temperatura 0.2:\", response.text)\n",
    "\n",
    "# Ajustar a temperatura para um valor mais alto para respostas mais criativas\n",
    "generation_config[\"temperature\"] = 0.8\n",
    "\n",
    "# Atualizar o modelo com a nova configuração de temperatura\n",
    "model = genai.GenerativeModel(\n",
    "  model_name=\"gemini-1.5-flash-8b\",\n",
    "  generation_config=generation_config,\n",
    "  system_instruction=\"Você é um chatbot. Responda às mensagens do usuário de maneira útil e amigável.\",\n",
    ")\n",
    "\n",
    "# Iniciar uma nova sessão de chat\n",
    "chat_session = model.start_chat(\n",
    "  history=[\n",
    "  ]\n",
    ")\n",
    "\n",
    "# Enviar uma mensagem e obter a resposta com a nova configuração de temperatura\n",
    "response = chat_session.send_message(\"Olá, como você está?\")\n",
    "\n",
    "# Imprimir a resposta\n",
    "print(\"Resposta com temperatura 0.8:\", response.text)"
   ]
  },
  {
   "cell_type": "markdown",
   "metadata": {},
   "source": [
    "# Técnica 2: Ajuste de Top-p e Top-k\n",
    "Mostrar como ajustar os parâmetros top-p e top-k para controlar a diversidade das respostas."
   ]
  },
  {
   "cell_type": "code",
   "execution_count": 9,
   "metadata": {},
   "outputs": [
    {
     "name": "stdout",
     "output_type": "stream",
     "text": [
      "Resposta com config {'temperature': 1, 'top_p': 0.7, 'top_k': 40, 'max_output_tokens': 8192}: Estou bem, obrigado por perguntar! Como posso ajudá-lo hoje?\n",
      "\n",
      "Resposta com config {'temperature': 1, 'top_p': 0.95, 'top_k': 40, 'max_output_tokens': 8192}: Estou bem, obrigado por perguntar! Como você está hoje?\n",
      "Erro: 429 Resource has been exhausted (e.g. check quota).\n",
      "Erro: 429 Resource has been exhausted (e.g. check quota).\n"
     ]
    }
   ],
   "source": [
    "import os\n",
    "from dotenv import load_dotenv\n",
    "import google.generativeai as genai\n",
    "\n",
    "# Carregar variáveis de ambiente do arquivo .env\n",
    "load_dotenv()\n",
    "\n",
    "genai.configure(api_key=os.environ[\"GEMINI_API_KEY\"])\n",
    "\n",
    "# Função para enviar mensagem e imprimir resposta\n",
    "def send_message_and_print_response(config, message):\n",
    "    try:\n",
    "        model = genai.GenerativeModel(\n",
    "            model_name=\"gemini-1.5-flash-8b\",\n",
    "            generation_config=config,\n",
    "            system_instruction=\"Você é um chatbot. Responda às mensagens do usuário de maneira útil e amigável.\",\n",
    "        )\n",
    "        chat_session = model.start_chat(history=[])\n",
    "        response = chat_session.send_message(message)\n",
    "        print(f\"Resposta com config {config}: {response.text}\")\n",
    "    except Exception as e:\n",
    "        print(f\"Erro: {e}\")\n",
    "\n",
    "# Configuração inicial\n",
    "generation_config = {\n",
    "    \"temperature\": 1,\n",
    "    \"top_p\": 0.95,\n",
    "    \"top_k\": 40,\n",
    "    \"max_output_tokens\": 8192,\n",
    "}\n",
    "\n",
    "# Ajustar top_p para um valor mais baixo para respostas mais focadas\n",
    "generation_config[\"top_p\"] = 0.7\n",
    "send_message_and_print_response(generation_config, \"Olá, como você está?\")\n",
    "\n",
    "# Ajustar top_p para um valor mais alto para respostas mais diversas\n",
    "generation_config[\"top_p\"] = 0.95\n",
    "send_message_and_print_response(generation_config, \"Olá, como você está?\")\n",
    "\n",
    "# Ajustar top_k para um valor mais baixo para respostas mais focadas\n",
    "generation_config[\"top_k\"] = 20\n",
    "send_message_and_print_response(generation_config, \"Olá, como você está?\")\n",
    "\n",
    "# Ajustar top_k para um valor mais alto para respostas mais diversas\n",
    "generation_config[\"top_k\"] = 50\n",
    "send_message_and_print_response(generation_config, \"Olá, como você está?\")"
   ]
  },
  {
   "cell_type": "markdown",
   "metadata": {},
   "source": [
    "# Técnica 3: Instruções do Sistema\n",
    "Explicar como fornecer instruções específicas ao sistema para guiar o comportamento do modelo."
   ]
  },
  {
   "cell_type": "code",
   "execution_count": 5,
   "metadata": {},
   "outputs": [
    {
     "name": "stdout",
     "output_type": "stream",
     "text": [
      "Resposta com instrução formal: Estou bem, obrigado por perguntar. Como posso ajudá-lo hoje?\n",
      "\n",
      "Resposta com instrução casual: E aí, tudo bem? Tô de boas por aqui, e você? Conta as novidades! 😄\n",
      "\n",
      "Resposta com instrução técnica: O aprendizado de máquina é um subcampo da inteligência artificial (IA) que permite aos computadores aprender com dados sem serem explicitamente programados. Em vez de depender de regras e instruções codificadas manualmente, os algoritmos de aprendizado de máquina identificam padrões, fazem previsões e melhoram seu desempenho ao longo do tempo por meio da exposição a dados.\n",
      "\n",
      "Aqui está uma análise de como funciona o aprendizado de máquina:\n",
      "\n",
      "**Componentes principais:**\n",
      "\n",
      "1. **Dados:** O aprendizado de máquina requer dados para aprender. Os dados podem ser qualquer coisa, desde imagens e texto até números e medições de sensores. A qualidade e a quantidade dos dados são cruciais para o sucesso de um modelo de aprendizado de máquina. Mais dados geralmente levam a melhores resultados.\n",
      "\n",
      "2. **Modelo:** Um modelo é uma representação matemática ou estatística de um sistema ou processo do mundo real. Os algoritmos de aprendizado de máquina usam dados para treinar um modelo, ajustando seus parâmetros até que ele possa fazer previsões precisas.\n",
      "\n",
      "3. **Algoritmo:** Um algoritmo é um conjunto de regras e cálculos que um modelo usa para aprender com os dados. Diferentes algoritmos são adequados para diferentes tipos de problemas e dados. A escolha do algoritmo certo é essencial para o sucesso de um projeto de aprendizado de máquina.\n",
      "\n",
      "4. **Previsões/Decisões:** Depois que um modelo é treinado, ele pode ser usado para fazer previsões ou tomar decisões sobre novos dados. A precisão dessas previsões depende da qualidade dos dados e do algoritmo usado.\n",
      "\n",
      "**Processo de aprendizado de máquina:**\n",
      "\n",
      "1. **Coleta e preparação de dados:** O primeiro passo é coletar e preparar os dados que serão usados para treinar o modelo. Isso inclui a limpeza dos dados, o tratamento de valores ausentes e a conversão dos dados em um formato que o algoritmo possa entender.\n",
      "\n",
      "2. **Escolha de um algoritmo:** O próximo passo é escolher um algoritmo apropriado para o problema e os dados. Existem muitos algoritmos diferentes de aprendizado de máquina disponíveis, cada um com seus próprios pontos fortes e fracos.\n",
      "\n",
      "3. **Treinamento do modelo:** O algoritmo é então usado para treinar o modelo nos dados preparados. Isso envolve alimentar os dados no algoritmo e permitir que ele ajuste os parâmetros do modelo até que ele possa fazer previsões precisas.\n",
      "\n",
      "4. **Avaliação do modelo:** Depois que o modelo é treinado, ele é avaliado em um conjunto separado de dados para avaliar seu desempenho. Isso ajuda a garantir que o modelo não esteja superajustado aos dados de treinamento e que pode generalizar para novos dados.\n",
      "\n",
      "5. **Ajuste do modelo:** Com base nos resultados da avaliação, o modelo pode ser ajustado ainda mais para melhorar seu desempenho. Isso pode envolver a alteração dos parâmetros do modelo ou o uso de um algoritmo diferente.\n",
      "\n",
      "6. **Previsão/Tomada de decisão:** Finalmente, o modelo treinado pode ser usado para fazer previsões ou tomar decisões sobre novos dados.\n",
      "\n",
      "**Tipos de aprendizado de máquina:**\n",
      "\n",
      "* **Aprendizado supervisionado:** O modelo é treinado em dados rotulados, o que significa que a saída desejada é fornecida para cada entrada. O objetivo é aprender uma função de mapeamento que pode prever a saída para novas entradas.\n",
      "\n",
      "* **Aprendizado não supervisionado:** O modelo é treinado em dados não rotulados, o que significa que nenhuma saída desejada é fornecida. O objetivo é descobrir padrões e estruturas nos dados sem qualquer orientação explícita.\n",
      "\n",
      "* **Aprendizado por reforço:** O modelo aprende interagindo com um ambiente. Ele recebe recompensas ou penalidades por suas ações e aprende a maximizar sua recompensa ao longo do tempo.\n",
      "\n",
      "**Exemplos de aplicações de aprendizado de máquina:**\n",
      "\n",
      "* **Reconhecimento de imagem:** Identificação de objetos, rostos e outras características em imagens.\n",
      "* **Processamento de linguagem natural:** Análise e compreensão de texto humano.\n",
      "* **Detecção de fraudes:** Identificação de transações fraudulentas.\n",
      "* **Sistemas de recomendação:** Recomendação de produtos ou serviços aos usuários.\n",
      "* **Carros autônomos:** Navegação e controle de veículos sem intervenção humana.\n",
      "\n",
      "Este é um resumo de como funciona o aprendizado de máquina. É um campo complexo e em rápida evolução, mas os princípios básicos permanecem os mesmos. Ao entender esses princípios, você pode começar a apreciar o poder e o potencial do aprendizado de máquina.\n",
      "\n"
     ]
    }
   ],
   "source": [
    "# Técnica 3: Instruções do Sistema\n",
    "\n",
    "# Atualizar a instrução do sistema para um comportamento mais formal\n",
    "model = genai.GenerativeModel(\n",
    "  model_name=\"gemini-1.5-flash-8b\",\n",
    "  generation_config=generation_config,\n",
    "  system_instruction=\"Você é um assistente virtual formal. Responda às mensagens do usuário de maneira educada e profissional.\",\n",
    ")\n",
    "\n",
    "# Iniciar uma nova sessão de chat\n",
    "chat_session = model.start_chat(\n",
    "  history=[\n",
    "  ]\n",
    ")\n",
    "\n",
    "# Enviar uma mensagem e obter a resposta com a nova instrução do sistema\n",
    "response = chat_session.send_message(\"Olá, como você está?\")\n",
    "\n",
    "# Imprimir a resposta\n",
    "print(\"Resposta com instrução formal:\", response.text)\n",
    "\n",
    "# Atualizar a instrução do sistema para um comportamento mais casual\n",
    "model = genai.GenerativeModel(\n",
    "  model_name=\"gemini-1.5-flash-8b\",\n",
    "  generation_config=generation_config,\n",
    "  system_instruction=\"Você é um amigo virtual. Responda às mensagens do usuário de maneira descontraída e amigável.\",\n",
    ")\n",
    "\n",
    "# Iniciar uma nova sessão de chat\n",
    "chat_session = model.start_chat(\n",
    "  history=[\n",
    "  ]\n",
    ")\n",
    "\n",
    "# Enviar uma mensagem e obter a resposta com a nova instrução do sistema\n",
    "response = chat_session.send_message(\"Olá, como você está?\")\n",
    "\n",
    "# Imprimir a resposta\n",
    "print(\"Resposta com instrução casual:\", response.text)\n",
    "\n",
    "# Atualizar a instrução do sistema para fornecer respostas detalhadas\n",
    "model = genai.GenerativeModel(\n",
    "  model_name=\"gemini-1.5-flash-8b\",\n",
    "  generation_config=generation_config,\n",
    "  system_instruction=\"Você é um assistente técnico. Forneça respostas detalhadas e informativas às perguntas do usuário.\",\n",
    ")\n",
    "\n",
    "# Iniciar uma nova sessão de chat\n",
    "chat_session = model.start_chat(\n",
    "  history=[\n",
    "  ]\n",
    ")\n",
    "\n",
    "# Enviar uma mensagem e obter a resposta com a nova instrução do sistema\n",
    "response = chat_session.send_message(\"Como funciona o aprendizado de máquina?\")\n",
    "\n",
    "# Imprimir a resposta\n",
    "print(\"Resposta com instrução técnica:\", response.text)"
   ]
  },
  {
   "cell_type": "markdown",
   "metadata": {},
   "source": [
    "# Técnica 4: Histórico de Conversa\n",
    "Demonstrar como utilizar o histórico de conversa para manter o contexto entre as interações."
   ]
  },
  {
   "cell_type": "code",
   "execution_count": 7,
   "metadata": {},
   "outputs": [
    {
     "name": "stdout",
     "output_type": "stream",
     "text": [
      "Resposta com histórico de conversa: Claro! Aqui vai uma:\n",
      "\n",
      "Por que o fantasma não consegue terminar sua lição de casa?\n",
      "\n",
      "Porque ele continua passando por ela!\n",
      "\n",
      "Gostaria de ouvir outra piada?\n",
      "\n",
      "Resposta com histórico de conversa atualizado: Desculpe, não tenho acesso a informações em tempo real, como a previsão do tempo. Um aplicativo de previsão do tempo ou o seu serviço de meteorologia local seriam os melhores recursos para obter informações atualizadas. Você pode me dizer sua localização e eu posso ajudar você a encontrar os recursos meteorológicos locais relevantes?\n",
      "\n"
     ]
    }
   ],
   "source": [
    "import os\n",
    "from dotenv import load_dotenv\n",
    "import google.generativeai as genai\n",
    "\n",
    "# Carregar variáveis de ambiente do arquivo .env\n",
    "load_dotenv()\n",
    "\n",
    "genai.configure(api_key=os.environ[\"GEMINI_API_KEY\"])\n",
    "\n",
    "# Configuração inicial\n",
    "generation_config = {\n",
    "    \"temperature\": 1,\n",
    "    \"top_p\": 0.95,\n",
    "    \"top_k\": 40,\n",
    "    \"max_output_tokens\": 8192,\n",
    "}\n",
    "\n",
    "# Criar o modelo\n",
    "model = genai.GenerativeModel(\n",
    "    model_name=\"gemini-1.5-flash-8b\",\n",
    "    generation_config=generation_config,\n",
    "    system_instruction=\"Você é um chatbot. Responda às mensagens do usuário de maneira útil e amigável.\",\n",
    ")\n",
    "\n",
    "# Iniciar uma nova sessão de chat com histórico\n",
    "chat_session = model.start_chat(\n",
    "    history=[\n",
    "        {\"parts\": [{\"text\": \"Olá, como você está?\"}], \"role\": \"user\"},\n",
    "        {\"parts\": [{\"text\": \"Estou bem, obrigado! Como posso ajudar você hoje?\"}], \"role\": \"assistant\"},\n",
    "    ]\n",
    ")\n",
    "\n",
    "# Enviar uma nova mensagem e obter a resposta mantendo o contexto\n",
    "response = chat_session.send_message(\"Pode me contar uma piada?\")\n",
    "\n",
    "# Imprimir a resposta\n",
    "print(\"Resposta com histórico de conversa:\", response.text)\n",
    "\n",
    "# Adicionar mais interações ao histórico\n",
    "chat_session.history.append({\"parts\": [{\"text\": \"Qual é a previsão do tempo para hoje?\"}], \"role\": \"user\"})\n",
    "\n",
    "# Enviar outra mensagem e obter a resposta mantendo o contexto\n",
    "response = chat_session.send_message(\"E amanhã?\")\n",
    "\n",
    "# Imprimir a resposta\n",
    "print(\"Resposta com histórico de conversa atualizado:\", response.text)"
   ]
  },
  {
   "cell_type": "markdown",
   "metadata": {},
   "source": [
    "# Técnica 5: Manipulação de Tokens de Saída\n",
    "Mostrar como manipular o número máximo de tokens de saída para controlar o comprimento das respostas."
   ]
  },
  {
   "cell_type": "code",
   "execution_count": 8,
   "metadata": {},
   "outputs": [
    {
     "name": "stdout",
     "output_type": "stream",
     "text": [
      "Resposta com max_output_tokens 50: Olá! Estou ótimo e pronto para ajudar. O que posso fazer por você hoje?\n",
      "\n",
      "Resposta com max_output_tokens 200: Estou bem, obrigado por perguntar! Como vai você? Espero que esteja tendo um dia maravilhoso. No que posso ajudar você hoje?\n",
      "\n"
     ]
    }
   ],
   "source": [
    "# Técnica 5: Manipulação de Tokens de Saída\n",
    "\n",
    "# Ajustar o número máximo de tokens de saída para um valor mais baixo para respostas mais curtas\n",
    "generation_config[\"max_output_tokens\"] = 50\n",
    "\n",
    "# Atualizar o modelo com a nova configuração de max_output_tokens\n",
    "model = genai.GenerativeModel(\n",
    "  model_name=\"gemini-1.5-flash-8b\",\n",
    "  generation_config=generation_config,\n",
    "  system_instruction=\"Você é um chatbot. Responda às mensagens do usuário de maneira útil e amigável.\",\n",
    ")\n",
    "\n",
    "# Iniciar uma nova sessão de chat\n",
    "chat_session = model.start_chat(\n",
    "  history=[\n",
    "  ]\n",
    ")\n",
    "\n",
    "# Enviar uma mensagem e obter a resposta com a nova configuração de max_output_tokens\n",
    "response = chat_session.send_message(\"Olá, como você está?\")\n",
    "\n",
    "# Imprimir a resposta\n",
    "print(\"Resposta com max_output_tokens 50:\", response.text)\n",
    "\n",
    "# Ajustar o número máximo de tokens de saída para um valor mais alto para respostas mais longas\n",
    "generation_config[\"max_output_tokens\"] = 200\n",
    "\n",
    "# Atualizar o modelo com a nova configuração de max_output_tokens\n",
    "model = genai.GenerativeModel(\n",
    "  model_name=\"gemini-1.5-flash-8b\",\n",
    "  generation_config=generation_config,\n",
    "  system_instruction=\"Você é um chatbot. Responda às mensagens do usuário de maneira útil e amigável.\",\n",
    ")\n",
    "\n",
    "# Iniciar uma nova sessão de chat\n",
    "chat_session = model.start_chat(\n",
    "  history=[\n",
    "  ]\n",
    ")\n",
    "\n",
    "# Enviar uma mensagem e obter a resposta com a nova configuração de max_output_tokens\n",
    "response = chat_session.send_message(\"Olá, como você está?\")\n",
    "\n",
    "# Imprimir a resposta\n",
    "print(\"Resposta com max_output_tokens 200:\", response.text)"
   ]
  }
 ],
 "metadata": {
  "kernelspec": {
   "display_name": "genai-env",
   "language": "python",
   "name": "python3"
  },
  "language_info": {
   "codemirror_mode": {
    "name": "ipython",
    "version": 3
   },
   "file_extension": ".py",
   "mimetype": "text/x-python",
   "name": "python",
   "nbconvert_exporter": "python",
   "pygments_lexer": "ipython3",
   "version": "3.12.4"
  }
 },
 "nbformat": 4,
 "nbformat_minor": 2
}
