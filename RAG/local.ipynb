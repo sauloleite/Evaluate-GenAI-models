{
 "cells": [
  {
   "cell_type": "markdown",
   "metadata": {},
   "source": [
    "# Importar Bibliotecas Necessárias\n",
    "Importe as bibliotecas necessárias, incluindo PyMuPDF e LangChain."
   ]
  },
  {
   "cell_type": "code",
   "execution_count": null,
   "metadata": {},
   "outputs": [
    {
     "name": "stderr",
     "output_type": "stream",
     "text": [
      "USER_AGENT environment variable not set, consider setting it to identify your requests.\n"
     ]
    },
    {
     "data": {
      "text/plain": [
       "True"
      ]
     },
     "execution_count": 2,
     "metadata": {},
     "output_type": "execute_result"
    }
   ],
   "source": [
    "# Importar Bibliotecas Necessárias\n",
    "\n",
    "# Importar PyMuPDF para manipulação de PDFs\n",
    "import fitz\n",
    "\n",
    "# Importar LangChain para processamento de linguagem natural\n",
    "from langchain_core.prompts import ChatPromptTemplate\n",
    "from langchain_openai import ChatOpenAI, OpenAIEmbeddings\n",
    "from langchain_community.document_loaders import WebBaseLoader\n",
    "from langchain_community.vectorstores import FAISS\n",
    "from langchain_text_splitters import RecursiveCharacterTextSplitter\n",
    "from langchain_core.output_parsers import StrOutputParser\n",
    "from langchain.chains.combine_documents import create_stuff_documents_chain\n",
    "from langchain.chains import create_retrieval_chain\n",
    "from langchain_core.documents import Document\n",
    "\n",
    "# Importar outras bibliotecas necessárias\n",
    "import os\n",
    "import dotenv\n",
    "from IPython.display import Markdown, display\n",
    "\n",
    "# Carregar variáveis de ambiente e inicializar o modelo de linguagem\n",
    "dotenv.load_dotenv()\n",
    "if not os.getenv(\"GITHUB_TOKEN\"):\n",
    "    raise ValueError(\"GITHUB_TOKEN is not set\")\n",
    "\n",
    "os.environ[\"OPENAI_API_KEY\"] = os.getenv(\"GITHUB_TOKEN\")\n",
    "os.environ[\"OPENAI_BASE_URL\"] = \"https://models.inference.ai.azure.com/\"\n",
    "\n",
    "GPT_MODEL = \"gpt-4o-mini\"\n",
    "\n",
    "from langchain_core.prompts import ChatPromptTemplate\n",
    "\n",
    "prompt = ChatPromptTemplate.from_template(\"\"\"\n",
    "You are an indigenous language assistant.\n",
    "Answer the following question based only on the provided context:\n",
    "\n",
    "<context>\n",
    "{context}\n",
    "</context>\n",
    "\n",
    "Question: {input}\n",
    "\"\"\")\n",
    "\n",
    "llm = ChatOpenAI(model=GPT_MODEL)"
   ]
  },
  {
   "cell_type": "markdown",
   "metadata": {},
   "source": [
    "# Carregar e Processar o Arquivo PDF\n",
    "Carregue o arquivo PDF da pasta 'kb' e processe seu conteúdo para extração de texto."
   ]
  },
  {
   "cell_type": "code",
   "execution_count": null,
   "metadata": {},
   "outputs": [
    {
     "name": "stdout",
     "output_type": "stream",
     "text": [
      "Abequar é o senhor (chefe) do vôo.\n"
     ]
    }
   ],
   "source": [
    "# Carregar e Processar o Arquivo PDF\n",
    "\n",
    "# Definir o caminho do arquivo PDF\n",
    "pdf_path = \"kb/dicitupi.pdf\"\n",
    "\n",
    "# Função para extrair texto do PDF\n",
    "def extrair_texto_pdf(pdf_path):\n",
    "    texto = \"\"\n",
    "    with fitz.open(pdf_path) as pdf_documento:\n",
    "        for pagina in pdf_documento:\n",
    "            texto += pagina.get_text()\n",
    "    return texto\n",
    "\n",
    "# Extrair texto do PDF\n",
    "conteudo_pdf = extrair_texto_pdf(pdf_path)\n",
    "\n",
    "# Dividir o texto em documentos menores\n",
    "text_splitter = RecursiveCharacterTextSplitter()\n",
    "documentos_pdf = text_splitter.split_text(conteudo_pdf)\n",
    "\n",
    "# Criar embeddings para os documentos\n",
    "EMBEDDINGS_MODEL = \"text-embedding-3-small\"\n",
    "embeddings = OpenAIEmbeddings(model=EMBEDDINGS_MODEL, chunk_size=30)\n",
    "vector_pdf = FAISS.from_texts(documentos_pdf, embeddings)\n",
    "\n",
    "# Criar um chain de recuperação para o PDF\n",
    "retriever_pdf = vector_pdf.as_retriever()\n",
    "document_chain_pdf = create_stuff_documents_chain(llm, prompt)\n",
    "retrieval_chain_pdf = create_retrieval_chain(retriever_pdf, document_chain_pdf)\n",
    "\n",
    "# Função para fazer perguntas sobre o PDF\n",
    "def perguntar_pdf(pergunta):\n",
    "    resposta = retrieval_chain_pdf.invoke({\"input\": pergunta})\n",
    "    return resposta[\"answer\"]\n",
    "\n",
    "# Exemplo de uso\n",
    "pergunta = \"O que é Abequar?\"\n",
    "resposta = perguntar_pdf(pergunta)\n",
    "print(resposta)"
   ]
  },
  {
   "cell_type": "markdown",
   "metadata": {},
   "source": [
    "# Criar Cadeia de Recuperação e Fazer Perguntas\n",
    "Crie uma cadeia de recuperação usando LangChain e faça perguntas sobre o conteúdo do PDF."
   ]
  },
  {
   "cell_type": "code",
   "execution_count": 11,
   "metadata": {},
   "outputs": [
    {
     "name": "stdout",
     "output_type": "stream",
     "text": [
      "Abequar é um termo que se refere ao senhor (chefe) do vôo, também conhecido como abaquar, que designa um homem que voa.\n"
     ]
    }
   ],
   "source": [
    "# Criar Cadeia de Recuperação e Fazer Perguntas\n",
    "\n",
    "# Definir o caminho do arquivo PDF\n",
    "pdf_path = \"kb/dicitupi.pdf\"\n",
    "\n",
    "# Função para extrair texto do PDF\n",
    "def extrair_texto_pdf(pdf_path):\n",
    "    texto = \"\"\n",
    "    with fitz.open(pdf_path) as pdf_documento:\n",
    "        for pagina in pdf_documento:\n",
    "            texto += pagina.get_text()\n",
    "    return texto\n",
    "\n",
    "# Extrair texto do PDF\n",
    "conteudo_pdf = extrair_texto_pdf(pdf_path)\n",
    "\n",
    "# Dividir o texto em documentos menores\n",
    "text_splitter = RecursiveCharacterTextSplitter()\n",
    "documentos_pdf = text_splitter.split_text(conteudo_pdf)\n",
    "\n",
    "# Criar embeddings para os documentos\n",
    "EMBEDDINGS_MODEL = \"text-embedding-3-small\"\n",
    "embeddings = OpenAIEmbeddings(model=EMBEDDINGS_MODEL, chunk_size=30)\n",
    "vector_pdf = FAISS.from_texts(documentos_pdf, embeddings)\n",
    "\n",
    "# Criar um chain de recuperação para o PDF\n",
    "retriever_pdf = vector_pdf.as_retriever()\n",
    "document_chain_pdf = create_stuff_documents_chain(llm, prompt)\n",
    "retrieval_chain_pdf = create_retrieval_chain(retriever_pdf, document_chain_pdf)\n",
    "\n",
    "# Função para fazer perguntas sobre o PDF\n",
    "def perguntar_pdf(pergunta):\n",
    "    resposta = retrieval_chain_pdf.invoke({\"input\": pergunta})\n",
    "    return resposta[\"answer\"]\n",
    "\n",
    "# Exemplo de uso\n",
    "pergunta = \"O que é Abequar?\"\n",
    "resposta = perguntar_pdf(pergunta)\n",
    "print(resposta)"
   ]
  }
 ],
 "metadata": {
  "kernelspec": {
   "display_name": "genai-env",
   "language": "python",
   "name": "python3"
  },
  "language_info": {
   "codemirror_mode": {
    "name": "ipython",
    "version": 3
   },
   "file_extension": ".py",
   "mimetype": "text/x-python",
   "name": "python",
   "nbconvert_exporter": "python",
   "pygments_lexer": "ipython3",
   "version": "3.12.4"
  }
 },
 "nbformat": 4,
 "nbformat_minor": 2
}
